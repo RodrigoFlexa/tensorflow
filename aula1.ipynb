{
 "cells": [
  {
   "cell_type": "code",
   "execution_count": 7,
   "metadata": {},
   "outputs": [],
   "source": [
    "import tensorflow as tf"
   ]
  },
  {
   "cell_type": "markdown",
   "metadata": {},
   "source": [
    "##  Definindo uma Constante no TensorFlow"
   ]
  },
  {
   "cell_type": "markdown",
   "metadata": {},
   "source": [
    "Um tensor é uma estrutura de dados que representa os valores que fluem entre as operações (nós) do grafo. Os tensores são a unidade básica de dados no TensorFlow e podem conter uma variedade de tipos de dados, incluindo números inteiros, números de ponto flutuante, strings e outros tipos de dados."
   ]
  },
  {
   "cell_type": "code",
   "execution_count": 8,
   "metadata": {},
   "outputs": [
    {
     "data": {
      "text/plain": [
       "<tf.Tensor: shape=(), dtype=string, numpy=b'Ol\\xc3\\xa1, mundo !!'>"
      ]
     },
     "execution_count": 8,
     "metadata": {},
     "output_type": "execute_result"
    }
   ],
   "source": [
    "# Definindo a constante\n",
    "saudacao = tf.constant('Olá, mundo !!')\n",
    "saudacao"
   ]
  },
  {
   "cell_type": "code",
   "execution_count": 9,
   "metadata": {},
   "outputs": [
    {
     "data": {
      "text/plain": [
       "b'Ol\\xc3\\xa1, mundo !!'"
      ]
     },
     "execution_count": 9,
     "metadata": {},
     "output_type": "execute_result"
    }
   ],
   "source": [
    "# Obtendo o valor dessa constante\n",
    "mensagem = saudacao.numpy()\n",
    "mensagem"
   ]
  },
  {
   "cell_type": "code",
   "execution_count": 10,
   "metadata": {},
   "outputs": [
    {
     "name": "stdout",
     "output_type": "stream",
     "text": [
      "Olá, mundo !!\n"
     ]
    }
   ],
   "source": [
    "#decodificação para UTF-8\n",
    "mensagem_decodificada = mensagem.decode('UTF-8')\n",
    "# Imprima a mensagem\n",
    "print(mensagem_decodificada)"
   ]
  },
  {
   "cell_type": "markdown",
   "metadata": {},
   "source": [
    "## Montando Grafos computacionais"
   ]
  },
  {
   "cell_type": "markdown",
   "metadata": {},
   "source": [
    "![Texto Alternativo](exemplo_graph.png)"
   ]
  },
  {
   "cell_type": "markdown",
   "metadata": {},
   "source": [
    "### Grafos Computacionais no TensorFlow 2.0\n",
    "\n",
    "Em termos simples, um grafo computacional é uma representação abstrata de um fluxo de cálculos. No TensorFlow, os grafos computacionais são usados para definir, otimizar e executar modelos de aprendizado de máquina. Eles são compostos por dois elementos principais:\n",
    "\n",
    "1. **Nós:** Os nós representam operações matemáticas que executam cálculos. Eles podem ser operações simples, como adição ou multiplicação, ou operações mais complexas, como convoluções em uma rede neural.\n",
    "\n",
    "2. **Arestas:** As arestas conectam os nós e representam os dados que fluem entre eles. Os dados são tipicamente representados como tensores multidimensionais, que são estruturas de dados semelhantes a matrizes usadas para armazenar informações.\n"
   ]
  },
  {
   "cell_type": "code",
   "execution_count": 11,
   "metadata": {},
   "outputs": [
    {
     "name": "stdout",
     "output_type": "stream",
     "text": [
      "tf.Tensor(5, shape=(), dtype=int32)\n",
      "tf.Tensor(3, shape=(), dtype=int32)\n",
      "tf.Tensor(8, shape=(), dtype=int32)\n",
      "tf.Tensor(15, shape=(), dtype=int32)\n",
      "tf.Tensor(-7, shape=(), dtype=int32)\n",
      "\n",
      "Resultado da Soma: 8\n",
      "Resultado da Multiplicação: 15\n",
      "Resultado da Subtração: -7\n"
     ]
    }
   ],
   "source": [
    "\n",
    "# Define operações como nós em um grafo computacional\n",
    "a = tf.constant(5, name=\"a\")\n",
    "print(a)\n",
    "b = tf.constant(3, name=\"b\")\n",
    "print(b)\n",
    "c = tf.add(a, b, name=\"soma\")\n",
    "print(c)\n",
    "d = tf.multiply(a, b, name=\"multiplicacao\")\n",
    "print(d)\n",
    "e = tf.subtract(c, d, name=\"subtracao\")\n",
    "print(e)\n",
    "print()\n",
    "# Imprima os resultados\n",
    "print(\"Resultado da Soma:\", c.numpy())\n",
    "print(\"Resultado da Multiplicação:\", d.numpy())\n",
    "print(\"Resultado da Subtração:\", e.numpy())"
   ]
  },
  {
   "cell_type": "markdown",
   "metadata": {},
   "source": [
    "## Programação linear"
   ]
  },
  {
   "cell_type": "code",
   "execution_count": 16,
   "metadata": {},
   "outputs": [
    {
     "ename": "TypeError",
     "evalue": "can only concatenate list (not \"tuple\") to list",
     "output_type": "error",
     "traceback": [
      "\u001b[1;31m---------------------------------------------------------------------------\u001b[0m",
      "\u001b[1;31mTypeError\u001b[0m                                 Traceback (most recent call last)",
      "\u001b[1;32mc:\\Users\\Demop\\OneDrive\\Documentos\\tensorflow\\aula1.ipynb Cell 12\u001b[0m line \u001b[0;36m4\n\u001b[0;32m     <a href='vscode-notebook-cell:/c%3A/Users/Demop/OneDrive/Documentos/tensorflow/aula1.ipynb#X23sZmlsZQ%3D%3D?line=32'>33</a>\u001b[0m problem \u001b[39m=\u001b[39m SampleProblem(loss_fn, [x, y])\n\u001b[0;32m     <a href='vscode-notebook-cell:/c%3A/Users/Demop/OneDrive/Documentos/tensorflow/aula1.ipynb#X23sZmlsZQ%3D%3D?line=34'>35</a>\u001b[0m optimizer \u001b[39m=\u001b[39m tfco\u001b[39m.\u001b[39mLagrangianOptimizer(\n\u001b[0;32m     <a href='vscode-notebook-cell:/c%3A/Users/Demop/OneDrive/Documentos/tensorflow/aula1.ipynb#X23sZmlsZQ%3D%3D?line=35'>36</a>\u001b[0m     optimizer\u001b[39m=\u001b[39mtf\u001b[39m.\u001b[39moptimizers\u001b[39m.\u001b[39mAdagrad(learning_rate\u001b[39m=\u001b[39m\u001b[39m0.1\u001b[39m),\n\u001b[0;32m     <a href='vscode-notebook-cell:/c%3A/Users/Demop/OneDrive/Documentos/tensorflow/aula1.ipynb#X23sZmlsZQ%3D%3D?line=36'>37</a>\u001b[0m     num_constraints\u001b[39m=\u001b[39mproblem\u001b[39m.\u001b[39mnum_constraints\n\u001b[0;32m     <a href='vscode-notebook-cell:/c%3A/Users/Demop/OneDrive/Documentos/tensorflow/aula1.ipynb#X23sZmlsZQ%3D%3D?line=37'>38</a>\u001b[0m )\n\u001b[1;32m---> <a href='vscode-notebook-cell:/c%3A/Users/Demop/OneDrive/Documentos/tensorflow/aula1.ipynb#X23sZmlsZQ%3D%3D?line=39'>40</a>\u001b[0m var_list \u001b[39m=\u001b[39m [x,  y] \u001b[39m+\u001b[39;49m problem\u001b[39m.\u001b[39;49mtrainable_variables \u001b[39m+\u001b[39m optimizer\u001b[39m.\u001b[39mtrainable_variables()\n\u001b[0;32m     <a href='vscode-notebook-cell:/c%3A/Users/Demop/OneDrive/Documentos/tensorflow/aula1.ipynb#X23sZmlsZQ%3D%3D?line=41'>42</a>\u001b[0m \u001b[39mfor\u001b[39;00m i \u001b[39min\u001b[39;00m \u001b[39mrange\u001b[39m(\u001b[39m10000\u001b[39m):\n\u001b[0;32m     <a href='vscode-notebook-cell:/c%3A/Users/Demop/OneDrive/Documentos/tensorflow/aula1.ipynb#X23sZmlsZQ%3D%3D?line=42'>43</a>\u001b[0m     optimizer\u001b[39m.\u001b[39mminimize(problem, var_list\u001b[39m=\u001b[39mvar_list)\n",
      "\u001b[1;31mTypeError\u001b[0m: can only concatenate list (not \"tuple\") to list"
     ]
    }
   ],
   "source": [
    "import tensorflow as tf\n",
    "\n",
    "# Use the GitHub version of TFCO\n",
    "# !pip install git+https://github.com/google-research/tensorflow_constrained_optimization\n",
    "import tensorflow_constrained_optimization as tfco\n",
    "\n",
    "class SampleProblem(tfco.ConstrainedMinimizationProblem):\n",
    "    def __init__(self, loss_fn, weights):\n",
    "        self._loss_fn = loss_fn\n",
    "        self._weights = weights\n",
    "   \n",
    "    @property\n",
    "    def num_constraints(self):\n",
    "        return 4\n",
    "   \n",
    "    def objective(self):\n",
    "        return loss_fn()\n",
    "   \n",
    "    def constraints(self):\n",
    "        x, y = self._weights\n",
    "        sum_weights = x + y\n",
    "        lt_or_eq_one = sum_weights - 1\n",
    "        gt_or_eq_one = 1 - sum_weights\n",
    "        constraints = tf.stack([lt_or_eq_one, gt_or_eq_one, -x, -y])\n",
    "        return constraints\n",
    "\n",
    "x = tf.Variable(0.0, dtype=tf.float32, name='x')\n",
    "y = tf.Variable(0.0, dtype=tf.float32, name='y')\n",
    "\n",
    "def loss_fn():\n",
    "    return (x - 2) ** 2 + y\n",
    "\n",
    "problem = SampleProblem(loss_fn, [x, y])\n",
    "\n",
    "optimizer = tfco.LagrangianOptimizer(\n",
    "    optimizer=tf.optimizers.Adagrad(learning_rate=0.1),\n",
    "    num_constraints=problem.num_constraints\n",
    ")\n",
    "\n",
    "var_list = [x,  y] + problem.trainable_variables + optimizer.trainable_variables()\n",
    "\n",
    "for i in range(10000):\n",
    "    optimizer.minimize(problem, var_list=var_list)\n",
    "    if i % 1000 == 0:\n",
    "        print(f'step = {i}')\n",
    "        print(f'loss = {loss_fn()}')\n",
    "        print(f'constraint = {(x + y).numpy()}')\n",
    "        print(f'x = {x.numpy()}, y = {y.numpy()}')"
   ]
  },
  {
   "cell_type": "code",
   "execution_count": null,
   "metadata": {},
   "outputs": [],
   "source": []
  }
 ],
 "metadata": {
  "kernelspec": {
   "display_name": "tf",
   "language": "python",
   "name": "python3"
  },
  "language_info": {
   "codemirror_mode": {
    "name": "ipython",
    "version": 3
   },
   "file_extension": ".py",
   "mimetype": "text/x-python",
   "name": "python",
   "nbconvert_exporter": "python",
   "pygments_lexer": "ipython3",
   "version": "3.10.13"
  },
  "orig_nbformat": 4
 },
 "nbformat": 4,
 "nbformat_minor": 2
}
