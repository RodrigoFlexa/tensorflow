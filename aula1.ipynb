{
 "cells": [
  {
   "cell_type": "code",
   "execution_count": 1,
   "metadata": {},
   "outputs": [
    {
     "ename": "ModuleNotFoundError",
     "evalue": "No module named 'tensorflow'",
     "output_type": "error",
     "traceback": [
      "\u001b[1;31m---------------------------------------------------------------------------\u001b[0m",
      "\u001b[1;31mModuleNotFoundError\u001b[0m                       Traceback (most recent call last)",
      "Cell \u001b[1;32mIn[1], line 1\u001b[0m\n\u001b[1;32m----> 1\u001b[0m \u001b[38;5;28;01mimport\u001b[39;00m \u001b[38;5;21;01mtensorflow\u001b[39;00m \u001b[38;5;28;01mas\u001b[39;00m \u001b[38;5;21;01mtf\u001b[39;00m\n\u001b[0;32m      2\u001b[0m \u001b[38;5;28;01mfrom\u001b[39;00m \u001b[38;5;21;01mtensorflow\u001b[39;00m \u001b[38;5;28;01mimport\u001b[39;00m keras\n",
      "\u001b[1;31mModuleNotFoundError\u001b[0m: No module named 'tensorflow'"
     ]
    }
   ],
   "source": [
    "import tensorflow as tf\n",
    "from tensorflow import keras"
   ]
  },
  {
   "cell_type": "markdown",
   "metadata": {},
   "source": [
    "##  Definindo uma Constante no TensorFlow"
   ]
  },
  {
   "cell_type": "markdown",
   "metadata": {},
   "source": [
    "Um tensor é uma estrutura de dados que representa os valores que fluem entre as operações (nós) do grafo. Os tensores são a unidade básica de dados no TensorFlow e podem conter uma variedade de tipos de dados, incluindo números inteiros, números de ponto flutuante, strings e outros tipos de dados."
   ]
  },
  {
   "cell_type": "code",
   "execution_count": 2,
   "metadata": {},
   "outputs": [
    {
     "ename": "AttributeError",
     "evalue": "module 'tensorflow' has no attribute 'constant'",
     "output_type": "error",
     "traceback": [
      "\u001b[1;31m---------------------------------------------------------------------------\u001b[0m",
      "\u001b[1;31mAttributeError\u001b[0m                            Traceback (most recent call last)",
      "\u001b[1;32mc:\\Users\\Demop\\OneDrive\\Documentos\\tensorflow_project\\tensorflow\\aula1.ipynb Cell 4\u001b[0m line \u001b[0;36m2\n\u001b[0;32m      <a href='vscode-notebook-cell:/c%3A/Users/Demop/OneDrive/Documentos/tensorflow_project/tensorflow/aula1.ipynb#W3sZmlsZQ%3D%3D?line=0'>1</a>\u001b[0m \u001b[39m# Definindo a constante\u001b[39;00m\n\u001b[1;32m----> <a href='vscode-notebook-cell:/c%3A/Users/Demop/OneDrive/Documentos/tensorflow_project/tensorflow/aula1.ipynb#W3sZmlsZQ%3D%3D?line=1'>2</a>\u001b[0m saudacao \u001b[39m=\u001b[39m tf\u001b[39m.\u001b[39;49mconstant(\u001b[39m'\u001b[39m\u001b[39mOlá, mundo !!\u001b[39m\u001b[39m'\u001b[39m)\n\u001b[0;32m      <a href='vscode-notebook-cell:/c%3A/Users/Demop/OneDrive/Documentos/tensorflow_project/tensorflow/aula1.ipynb#W3sZmlsZQ%3D%3D?line=2'>3</a>\u001b[0m saudacao\n",
      "\u001b[1;31mAttributeError\u001b[0m: module 'tensorflow' has no attribute 'constant'"
     ]
    }
   ],
   "source": [
    "# Definindo a constante\n",
    "saudacao = tf.constant('Olá, mundo !!')\n",
    "saudacao"
   ]
  },
  {
   "cell_type": "code",
   "execution_count": null,
   "metadata": {},
   "outputs": [
    {
     "data": {
      "text/plain": [
       "b'Ol\\xc3\\xa1, mundo !!'"
      ]
     },
     "execution_count": 3,
     "metadata": {},
     "output_type": "execute_result"
    }
   ],
   "source": [
    "# Obtendo o valor dessa constante\n",
    "mensagem = saudacao.numpy()\n",
    "mensagem"
   ]
  },
  {
   "cell_type": "code",
   "execution_count": null,
   "metadata": {},
   "outputs": [
    {
     "name": "stdout",
     "output_type": "stream",
     "text": [
      "Olá, mundo !!\n"
     ]
    }
   ],
   "source": [
    "#decodificação para UTF-8\n",
    "mensagem_decodificada = mensagem.decode('UTF-8')\n",
    "# Imprima a mensagem\n",
    "print(mensagem_decodificada)"
   ]
  },
  {
   "cell_type": "markdown",
   "metadata": {},
   "source": [
    "## Montando Grafos computacionais"
   ]
  },
  {
   "cell_type": "markdown",
   "metadata": {},
   "source": [
    "![Texto Alternativo](exemplo_graph.png)"
   ]
  },
  {
   "cell_type": "markdown",
   "metadata": {},
   "source": [
    "### Grafos Computacionais no TensorFlow 2.0\n",
    "\n",
    "Em termos simples, um grafo computacional é uma representação abstrata de um fluxo de cálculos. No TensorFlow, os grafos computacionais são usados para definir, otimizar e executar modelos de aprendizado de máquina. Eles são compostos por dois elementos principais:\n",
    "\n",
    "1. **Nós:** Os nós representam operações matemáticas que executam cálculos. Eles podem ser operações simples, como adição ou multiplicação, ou operações mais complexas, como convoluções em uma rede neural.\n",
    "\n",
    "2. **Arestas:** As arestas conectam os nós e representam os dados que fluem entre eles. Os dados são tipicamente representados como tensores multidimensionais, que são estruturas de dados semelhantes a matrizes usadas para armazenar informações.\n"
   ]
  },
  {
   "cell_type": "code",
   "execution_count": null,
   "metadata": {},
   "outputs": [
    {
     "name": "stdout",
     "output_type": "stream",
     "text": [
      "tf.Tensor(5, shape=(), dtype=int32)\n",
      "tf.Tensor(3, shape=(), dtype=int32)\n",
      "tf.Tensor(8, shape=(), dtype=int32)\n",
      "tf.Tensor(15, shape=(), dtype=int32)\n",
      "tf.Tensor(-7, shape=(), dtype=int32)\n",
      "\n",
      "Resultado da Soma: 8\n",
      "Resultado da Multiplicação: 15\n",
      "Resultado da Subtração: -7\n"
     ]
    }
   ],
   "source": [
    "\n",
    "# Define operações como nós em um grafo computacional\n",
    "a = tf.constant(5, name=\"a\")\n",
    "print(a)\n",
    "b = tf.constant(3, name=\"b\")\n",
    "print(b)\n",
    "c = tf.add(a, b, name=\"soma\")\n",
    "print(c)\n",
    "d = tf.multiply(a, b, name=\"multiplicacao\")\n",
    "print(d)\n",
    "e = tf.subtract(c, d, name=\"subtracao\")\n",
    "print(e)\n",
    "print()\n",
    "# Imprima os resultados\n",
    "print(\"Resultado da Soma:\", c.numpy())\n",
    "print(\"Resultado da Multiplicação:\", d.numpy())\n",
    "print(\"Resultado da Subtração:\", e.numpy())"
   ]
  },
  {
   "cell_type": "markdown",
   "metadata": {},
   "source": [
    "## Problemas de otimização"
   ]
  },
  {
   "cell_type": "markdown",
   "metadata": {},
   "source": [
    "Resolver problemas de otimização usando o TensorFlow pode ser uma abordagem poderosa, especialmente se os problemas envolvem otimização de funções em grande escala, aprendizado de máquina ou redes neurais. \n",
    "\n",
    "1. **Defina o Problema de Otimização como uma Função Objetivo**:\n",
    "\n",
    "   Primeiro, é preciso definir o problema de otimização como uma função objetivo. Isso significa que você precisa criar uma função que represente o que deseja otimizar. Por exemplo, se estiver trabalhando com programação linear, essa função representaria a equação a ser maximizada ou minimizada.\n",
    "\n",
    "2. **Escolha um Otimizador**:\n",
    "\n",
    "   O TensorFlow oferece vários otimizadores prontos para uso que podem ser aplicados a diferentes tipos de problemas de otimização. Alguns dos otimizadores populares incluem o Gradiente Descendente Estocástico (SGD), Adam, RMSprop, entre outros. Você escolherá um otimizador com base nas características do seu problema.\n",
    "\n",
    "3. **Defina Variáveis e Restrições**:\n",
    "\n",
    "   Se o seu problema envolver variáveis sujeitas a restrições, você precisará definir essas variáveis e restrições dentro do TensorFlow. Por exemplo, em um problema de programação linear, as variáveis e restrições seriam definidas como tensores.\n",
    "\n",
    "4. **Configure o Treinamento**:\n",
    "\n",
    "   Agora, você precisa configurar o treinamento do TensorFlow para otimizar a função objetivo que você definiu. Isso envolve a criação de um loop de treinamento onde o otimizador ajustará as variáveis para minimizar ou maximizar a função objetivo.\n",
    "\n",
    "5. **Execute o Treinamento**:\n",
    "\n",
    "   Use os dados relevantes (se aplicável) e execute o treinamento. O TensorFlow ajustará automaticamente as variáveis com base no otimizador escolhido e na função objetivo.\n",
    "\n",
    "6. **Acompanhe o Progresso e Obtenha Resultados**:\n",
    "\n",
    "   Durante o treinamento, você pode acompanhar métricas de desempenho e, quando o treinamento for concluído, você poderá acessar os valores otimizados das variáveis, que representam a solução para o seu problema de otimização.\n",
    "\n",
    "Aqui está um exemplo simples usando o TensorFlow para otimizar uma função linear:\n",
    "\n",
    "```python"
   ]
  },
  {
   "cell_type": "code",
   "execution_count": null,
   "metadata": {},
   "outputs": [
    {
     "name": "stdout",
     "output_type": "stream",
     "text": [
      "Valor otimizado de x: 0.0\n",
      "Valor otimizado da função objetivo: 3.0\n"
     ]
    }
   ],
   "source": [
    "import tensorflow as tf\n",
    "\n",
    "# Definir a função objetivo\n",
    "def funcao_objetivo(x):\n",
    "    return x**2 + 3\n",
    "\n",
    "# Variável a ser otimizada\n",
    "x = tf.Variable(0.0, trainable=True)\n",
    "\n",
    "# Otimizador (Gradiente Descendente Estocástico)\n",
    "optimizer = tf.optimizers.SGD(learning_rate=0.1)\n",
    "\n",
    "# Loop de treinamento\n",
    "for _ in range(10):\n",
    "    with tf.GradientTape() as tape:\n",
    "        loss = funcao_objetivo(x)\n",
    "    gradients = tape.gradient(loss, [x])\n",
    "    optimizer.apply_gradients(zip(gradients, [x]))\n",
    "\n",
    "print(\"Valor otimizado de x:\", x.numpy())\n",
    "print(\"Valor otimizado da função objetivo:\", funcao_objetivo(x).numpy())"
   ]
  },
  {
   "cell_type": "markdown",
   "metadata": {},
   "source": [
    "# Programação Linear"
   ]
  },
  {
   "cell_type": "markdown",
   "metadata": {},
   "source": [
    "**Exemplo da aula: minimização**"
   ]
  },
  {
   "cell_type": "code",
   "execution_count": null,
   "metadata": {},
   "outputs": [
    {
     "name": "stdout",
     "output_type": "stream",
     "text": [
      "Quantidade de milho (x1): -6500.0\n",
      "Quantidade de farinha (x2): -3000.0\n",
      "Custo total mínimo: -512500.0\n"
     ]
    }
   ],
   "source": [
    "# Variáveis de decisão (quantidade de milho e farinha)\n",
    "x1 = tf.Variable(0.0, trainable=True)\n",
    "x2 = tf.Variable(0.0, trainable=True)\n",
    "\n",
    "# Função objetivo a ser minimizada (custo total)\n",
    "def funcao_objetivo(x1, x2):\n",
    "    return (65*x1 + 30*x2)\n",
    "\n",
    "# Restrições\n",
    "def restricoes():\n",
    "    return [\n",
    "        2*x1 + 3*x2 >= 7,   # Restrição de vitamina A\n",
    "        3*x1 + 2*x2 >= 9,   # Restrição de vitamina B\n",
    "        x1 >= 1,            # Restrição de não-negatividade para milho\n",
    "        x2 >= 0             # Restrição de não-negatividade para farinha\n",
    "    ]\n",
    "\n",
    "# Configurar otimizador\n",
    "optimizer = tf.optimizers.SGD(learning_rate=0.1)\n",
    "\n",
    "# Loop de treinamento\n",
    "for _ in range(1000):\n",
    "    with tf.GradientTape() as tape:\n",
    "        objetivo = funcao_objetivo(x1, x2)\n",
    "        restricoes_result = restricoes()\n",
    "        perda = objetivo + tf.reduce_sum(tf.minimum(0.0, -tf.convert_to_tensor(restricoes_result, dtype=tf.float32)))\n",
    "    gradients = tape.gradient(perda, [x1, x2])\n",
    "    optimizer.apply_gradients(zip(gradients, [x1, x2]))\n",
    "\n",
    "print(\"Quantidade de milho (x1):\", x1.numpy())\n",
    "print(\"Quantidade de farinha (x2):\", x2.numpy())\n",
    "print(\"Custo total mínimo:\", funcao_objetivo(x1, x2).numpy())\n"
   ]
  },
  {
   "cell_type": "code",
   "execution_count": null,
   "metadata": {},
   "outputs": [
    {
     "ename": "ImportError",
     "evalue": "This version of TensorFlow Probability requires TensorFlow version >= 2.13; Detected an installation of version 2.10.0. Please upgrade TensorFlow to proceed.",
     "output_type": "error",
     "traceback": [
      "\u001b[1;31m---------------------------------------------------------------------------\u001b[0m",
      "\u001b[1;31mImportError\u001b[0m                               Traceback (most recent call last)",
      "\u001b[1;32mc:\\Users\\Demop\\OneDrive\\Documentos\\tensorflow_project\\tensorflow\\aula1.ipynb Cell 17\u001b[0m line \u001b[0;36m2\n\u001b[0;32m      <a href='vscode-notebook-cell:/c%3A/Users/Demop/OneDrive/Documentos/tensorflow_project/tensorflow/aula1.ipynb#X35sZmlsZQ%3D%3D?line=0'>1</a>\u001b[0m \u001b[39mimport\u001b[39;00m \u001b[39mtensorflow\u001b[39;00m \u001b[39mas\u001b[39;00m \u001b[39mtf\u001b[39;00m\n\u001b[1;32m----> <a href='vscode-notebook-cell:/c%3A/Users/Demop/OneDrive/Documentos/tensorflow_project/tensorflow/aula1.ipynb#X35sZmlsZQ%3D%3D?line=1'>2</a>\u001b[0m \u001b[39mimport\u001b[39;00m \u001b[39mtensorflow_probability\u001b[39;00m \u001b[39mas\u001b[39;00m \u001b[39mtfp\u001b[39;00m \n\u001b[0;32m      <a href='vscode-notebook-cell:/c%3A/Users/Demop/OneDrive/Documentos/tensorflow_project/tensorflow/aula1.ipynb#X35sZmlsZQ%3D%3D?line=3'>4</a>\u001b[0m \u001b[39m# Definir as variáveis de decisão: quantidade de milho e quantidade de farinha\u001b[39;00m\n\u001b[0;32m      <a href='vscode-notebook-cell:/c%3A/Users/Demop/OneDrive/Documentos/tensorflow_project/tensorflow/aula1.ipynb#X35sZmlsZQ%3D%3D?line=4'>5</a>\u001b[0m milho \u001b[39m=\u001b[39m tf\u001b[39m.\u001b[39mVariable(initial_value\u001b[39m=\u001b[39m\u001b[39m1.0\u001b[39m, trainable\u001b[39m=\u001b[39m\u001b[39mTrue\u001b[39;00m, dtype\u001b[39m=\u001b[39mtf\u001b[39m.\u001b[39mfloat32)\n",
      "File \u001b[1;32mc:\\Users\\Demop\\anaconda3\\envs\\tf\\lib\\site-packages\\tensorflow_probability\\__init__.py:23\u001b[0m\n\u001b[0;32m     20\u001b[0m \u001b[39mfrom\u001b[39;00m \u001b[39mtensorflow_probability\u001b[39;00m \u001b[39mimport\u001b[39;00m substrates\n\u001b[0;32m     21\u001b[0m \u001b[39m# from tensorflow_probability.google import staging  # DisableOnExport\u001b[39;00m\n\u001b[0;32m     22\u001b[0m \u001b[39m# from tensorflow_probability.google import tfp_google  # DisableOnExport\u001b[39;00m\n\u001b[1;32m---> 23\u001b[0m \u001b[39mfrom\u001b[39;00m \u001b[39mtensorflow_probability\u001b[39;00m\u001b[39m.\u001b[39;00m\u001b[39mpython\u001b[39;00m \u001b[39mimport\u001b[39;00m \u001b[39m*\u001b[39m  \u001b[39m# pylint: disable=wildcard-import\u001b[39;00m\n\u001b[0;32m     24\u001b[0m \u001b[39mfrom\u001b[39;00m \u001b[39mtensorflow_probability\u001b[39;00m\u001b[39m.\u001b[39;00m\u001b[39mpython\u001b[39;00m\u001b[39m.\u001b[39;00m\u001b[39mversion\u001b[39;00m \u001b[39mimport\u001b[39;00m __version__\n\u001b[0;32m     26\u001b[0m \u001b[39m# tfp_google.bind(globals())  # DisableOnExport\u001b[39;00m\n\u001b[0;32m     27\u001b[0m \u001b[39m# del tfp_google  # DisableOnExport\u001b[39;00m\n",
      "File \u001b[1;32mc:\\Users\\Demop\\anaconda3\\envs\\tf\\lib\\site-packages\\tensorflow_probability\\python\\__init__.py:138\u001b[0m\n\u001b[0;32m    135\u001b[0m \u001b[39mif\u001b[39;00m _tf_loaded():\n\u001b[0;32m    136\u001b[0m   \u001b[39m# Non-lazy load of packages that register with tensorflow or keras.\u001b[39;00m\n\u001b[0;32m    137\u001b[0m   \u001b[39mfor\u001b[39;00m pkg_name \u001b[39min\u001b[39;00m _maybe_nonlazy_load:\n\u001b[1;32m--> 138\u001b[0m     \u001b[39mdir\u001b[39;49m(\u001b[39mglobals\u001b[39;49m()[pkg_name])  \u001b[39m# Forces loading the package from its lazy loader.\u001b[39;00m\n\u001b[0;32m    141\u001b[0m all_util\u001b[39m.\u001b[39mremove_undocumented(\u001b[39m__name__\u001b[39m, _lazy_load \u001b[39m+\u001b[39m _maybe_nonlazy_load)\n",
      "File \u001b[1;32mc:\\Users\\Demop\\anaconda3\\envs\\tf\\lib\\site-packages\\tensorflow_probability\\python\\internal\\lazy_loader.py:57\u001b[0m, in \u001b[0;36mLazyLoader.__dir__\u001b[1;34m(self)\u001b[0m\n\u001b[0;32m     56\u001b[0m \u001b[39mdef\u001b[39;00m \u001b[39m__dir__\u001b[39m(\u001b[39mself\u001b[39m):\n\u001b[1;32m---> 57\u001b[0m   module \u001b[39m=\u001b[39m \u001b[39mself\u001b[39;49m\u001b[39m.\u001b[39;49m_load()\n\u001b[0;32m     58\u001b[0m   \u001b[39mreturn\u001b[39;00m \u001b[39mdir\u001b[39m(module)\n",
      "File \u001b[1;32mc:\\Users\\Demop\\anaconda3\\envs\\tf\\lib\\site-packages\\tensorflow_probability\\python\\internal\\lazy_loader.py:37\u001b[0m, in \u001b[0;36mLazyLoader._load\u001b[1;34m(self)\u001b[0m\n\u001b[0;32m     35\u001b[0m \u001b[39m\u001b[39m\u001b[39m\"\"\"Load the module and insert it into the parent's globals.\"\"\"\u001b[39;00m\n\u001b[0;32m     36\u001b[0m \u001b[39mif\u001b[39;00m \u001b[39mcallable\u001b[39m(\u001b[39mself\u001b[39m\u001b[39m.\u001b[39m_on_first_access):\n\u001b[1;32m---> 37\u001b[0m   \u001b[39mself\u001b[39;49m\u001b[39m.\u001b[39;49m_on_first_access()\n\u001b[0;32m     38\u001b[0m   \u001b[39mself\u001b[39m\u001b[39m.\u001b[39m_on_first_access \u001b[39m=\u001b[39m \u001b[39mNone\u001b[39;00m\n\u001b[0;32m     39\u001b[0m \u001b[39m# Import the target module and insert it into the parent's namespace\u001b[39;00m\n",
      "File \u001b[1;32mc:\\Users\\Demop\\anaconda3\\envs\\tf\\lib\\site-packages\\tensorflow_probability\\python\\__init__.py:59\u001b[0m, in \u001b[0;36m_validate_tf_environment\u001b[1;34m(package)\u001b[0m\n\u001b[0;32m     55\u001b[0m \u001b[39m#   required_tensorflow_version = '1.15'  # Needed internally -- DisableOnExport\u001b[39;00m\n\u001b[0;32m     57\u001b[0m   \u001b[39mif\u001b[39;00m (distutils\u001b[39m.\u001b[39mversion\u001b[39m.\u001b[39mLooseVersion(tf\u001b[39m.\u001b[39m__version__) \u001b[39m<\u001b[39m\n\u001b[0;32m     58\u001b[0m       distutils\u001b[39m.\u001b[39mversion\u001b[39m.\u001b[39mLooseVersion(required_tensorflow_version)):\n\u001b[1;32m---> 59\u001b[0m     \u001b[39mraise\u001b[39;00m \u001b[39mImportError\u001b[39;00m(\n\u001b[0;32m     60\u001b[0m         \u001b[39m'\u001b[39m\u001b[39mThis version of TensorFlow Probability requires TensorFlow \u001b[39m\u001b[39m'\u001b[39m\n\u001b[0;32m     61\u001b[0m         \u001b[39m'\u001b[39m\u001b[39mversion >= \u001b[39m\u001b[39m{required}\u001b[39;00m\u001b[39m; Detected an installation of version \u001b[39m\u001b[39m{present}\u001b[39;00m\u001b[39m. \u001b[39m\u001b[39m'\u001b[39m\n\u001b[0;32m     62\u001b[0m         \u001b[39m'\u001b[39m\u001b[39mPlease upgrade TensorFlow to proceed.\u001b[39m\u001b[39m'\u001b[39m\u001b[39m.\u001b[39mformat(\n\u001b[0;32m     63\u001b[0m             required\u001b[39m=\u001b[39mrequired_tensorflow_version,\n\u001b[0;32m     64\u001b[0m             present\u001b[39m=\u001b[39mtf\u001b[39m.\u001b[39m__version__))\n\u001b[0;32m     66\u001b[0m   \u001b[39mif\u001b[39;00m (package \u001b[39m==\u001b[39m \u001b[39m'\u001b[39m\u001b[39mmcmc\u001b[39m\u001b[39m'\u001b[39m \u001b[39mand\u001b[39;00m\n\u001b[0;32m     67\u001b[0m       tf\u001b[39m.\u001b[39mconfig\u001b[39m.\u001b[39mexperimental\u001b[39m.\u001b[39mtensor_float_32_execution_enabled()):\n\u001b[0;32m     68\u001b[0m     \u001b[39m# Must import here, because symbols get pruned to __all__.\u001b[39;00m\n\u001b[0;32m     69\u001b[0m     \u001b[39mimport\u001b[39;00m \u001b[39mwarnings\u001b[39;00m\n",
      "\u001b[1;31mImportError\u001b[0m: This version of TensorFlow Probability requires TensorFlow version >= 2.13; Detected an installation of version 2.10.0. Please upgrade TensorFlow to proceed."
     ]
    }
   ],
   "source": [
    "import tensorflow as tf\n",
    "import tensorflow_probability as tfp \n",
    "\n",
    "# Definir as variáveis de decisão: quantidade de milho e quantidade de farinha\n",
    "milho = tf.Variable(initial_value=1.0, trainable=True, dtype=tf.float32)\n",
    "farinha = tf.Variable(initial_value=1.0, trainable=True, dtype=tf.float32)\n",
    "\n",
    "# Definir o custo de cada ingrediente\n",
    "custo_milho = 65.0  # R$/Kg\n",
    "custo_farinha = 30.0  # R$/Kg\n",
    "\n",
    "# Definir as quantidades de nutrientes em cada ingrediente\n",
    "nutrientes_milho = [2.0, 3.0, 1.0]  # [Vitamina A, Vitamina B, Proteina]\n",
    "nutrientes_farinha = [3.0, 2.0, 0.0]  # [Vitamina A, Vitamina B, Proteina]\n",
    "# Definir as necessidades nutricionais mínimas\n",
    "necessidades_minimas = [7.0, 9.0, 1.0]  # [Vitamina A, Vitamina B, Proteina]\n",
    "\n",
    "# Função objetivo: minimizar o custo total dos ingredientes\n",
    "custo_total = custo_milho * milho + custo_farinha * farinha\n",
    "\n",
    "# Restrições nutricionais\n",
    "restricao_vitamina_A = nutrientes_milho[0] * milho + nutrientes_farinha[0] * farinha >= necessidades_minimas[0]\n",
    "restricao_vitamina_B = nutrientes_milho[1] * milho + nutrientes_farinha[1] * farinha >= necessidades_minimas[1]\n",
    "restricao_proteina = nutrientes_milho[2] * milho + nutrientes_farinha[2] * farinha >= necessidades_minimas[2]\n",
    "\n",
    "# Criar o modelo de programação linear\n",
    "modelo = tfp.LinearOptimizationModel(\n",
    "    objective=custo_total,\n",
    "    constraints=[\n",
    "        restricao_vitamina_A,\n",
    "        restricao_vitamina_B,\n",
    "        restricao_proteina\n",
    "    ]\n",
    ")\n",
    "\n",
    "# Resolver o problema de otimização\n",
    "status = modelo.solve()\n",
    "\n",
    "if status == tfp.OptStatus.OPTIMAL:\n",
    "    quantidade_milho = milho.numpy()\n",
    "    quantidade_farinha = farinha.numpy()\n",
    "    print(f\"Quantidade de Milho: {quantidade_milho} Kg\")\n",
    "    print(f\"Quantidade de Farinha: {quantidade_farinha} Kg\")\n",
    "    print(f\"Custo Total: {custo_total.numpy()} R$\")\n",
    "else:\n",
    "    print(\"Não foi possível encontrar a solução ótima.\")\n"
   ]
  },
  {
   "cell_type": "markdown",
   "metadata": {},
   "source": [
    "**Exemplo de Problema com Restrições no Mundo Real: Planejamento de Produção**\n",
    "\n",
    "Suponha que você trabalhe em uma fábrica que produz dois produtos, A e B, e você deseja otimizar a programação de produção para maximizar os lucros, levando em consideração as seguintes restrições:\n",
    "\n",
    "1. Recursos Limitados: A fábrica tem recursos limitados, como horas de trabalho disponíveis por dia e matérias-primas limitadas.\n",
    "\n",
    "2. Demanda do Mercado: Existe uma demanda de mercado específica para cada produto (ou seja, quantidades mínimas a serem produzidas).\n",
    "\n",
    "3. Tempo de Produção: Cada unidade de produto A leva 2 horas para ser produzida, e cada unidade de produto B leva 3 horas.\n",
    "\n",
    "4. Disponibilidade de Matéria-Prima: Você tem um estoque limitado de matéria-prima que pode ser usada para ambos os produtos.\n",
    "\n",
    "Agora, vamos criar um código usando TensorFlow para resolver esse problema de otimização com restrições. Vamos assumir que os preços de venda e os custos de produção também são conhecidos."
   ]
  },
  {
   "cell_type": "code",
   "execution_count": null,
   "metadata": {},
   "outputs": [
    {
     "name": "stdout",
     "output_type": "stream",
     "text": [
      "Quantidade a ser produzida de A e B: [62.399937 72.60001 ]\n",
      "Lucro máximo: 882.59973\n"
     ]
    }
   ],
   "source": [
    "import tensorflow as tf\n",
    "import numpy as np\n",
    "\n",
    "# Variáveis de decisão (quantidade a ser produzida de A e B)\n",
    "x = tf.Variable([0.0, 0.0], trainable=True)\n",
    "\n",
    "# Recursos disponíveis (horas de trabalho e matéria-prima)\n",
    "recursos_disponiveis = np.array([16.0, 24.0])\n",
    "\n",
    "# Tempo de produção por unidade de A e B\n",
    "tempo_producao = np.array([2.0, 3.0])\n",
    "\n",
    "# Demanda de mercado para A e B\n",
    "demanda = np.array([8.0, 6.0])\n",
    "\n",
    "# Preços de venda e custos de produção\n",
    "preco_venda = np.array([10.0, 12.0])\n",
    "custo_producao = np.array([4.0, 5.0])\n",
    "\n",
    "# Função objetivo a ser maximizada (lucro total)\n",
    "def funcao_objetivo(x):\n",
    "    lucro = tf.reduce_sum((preco_venda - custo_producao) * x)\n",
    "    return -lucro  # Minimizar o negativo do lucro para maximizar o lucro\n",
    "\n",
    "# Restrições de recursos\n",
    "def restricoes_recursos(x):\n",
    "    uso_recursos = tf.reduce_sum(tempo_producao * x)\n",
    "    return recursos_disponiveis - uso_recursos  # Deve ser maior ou igual a zero\n",
    "\n",
    "# Restrições de demanda\n",
    "def restricoes_demanda(x):\n",
    "    return demanda - x  # Deve ser maior ou igual a zero\n",
    "\n",
    "# Configurar otimizador\n",
    "optimizer = tf.optimizers.SGD(learning_rate=0.1)\n",
    "\n",
    "# Loop de treinamento\n",
    "for _ in range(100):\n",
    "    with tf.GradientTape() as tape:\n",
    "        objetivo = funcao_objetivo(x)\n",
    "        restricoes_recursos_result = restricoes_recursos(x)\n",
    "        restricoes_demanda_result = restricoes_demanda(x)\n",
    "        perda = objetivo + tf.reduce_sum(tf.maximum(0.0, restricoes_recursos_result)) + tf.reduce_sum(tf.maximum(0.0, restricoes_demanda_result))\n",
    "    gradients = tape.gradient(perda, [x])\n",
    "    optimizer.apply_gradients(zip(gradients, [x]))\n",
    "\n",
    "print(\"Quantidade a ser produzida de A e B:\", x.numpy())\n",
    "print(\"Lucro máximo:\", -funcao_objetivo(x).numpy())\n"
   ]
  },
  {
   "cell_type": "code",
   "execution_count": null,
   "metadata": {},
   "outputs": [],
   "source": []
  },
  {
   "cell_type": "code",
   "execution_count": null,
   "metadata": {},
   "outputs": [],
   "source": []
  },
  {
   "cell_type": "code",
   "execution_count": null,
   "metadata": {},
   "outputs": [],
   "source": []
  },
  {
   "cell_type": "code",
   "execution_count": null,
   "metadata": {},
   "outputs": [],
   "source": [
    "# import tensorflow as tf\n",
    "\n",
    "# # Use the GitHub version of TFCO\n",
    "# # !pip install git+https://github.com/google-research/tensorflow_constrained_optimization\n",
    "# import tensorflow_constrained_optimization as tfco\n",
    "\n",
    "# class SampleProblem(tfco.ConstrainedMinimizationProblem):\n",
    "#     def __init__(self, loss_fn, weights):\n",
    "#         self._loss_fn = loss_fn\n",
    "#         self._weights = weights\n",
    "   \n",
    "#     @property\n",
    "#     def num_constraints(self):\n",
    "#         return 4\n",
    "   \n",
    "#     def objective(self):\n",
    "#         return loss_fn()\n",
    "   \n",
    "#     def constraints(self):\n",
    "#         x, y = self._weights\n",
    "#         sum_weights = x + y\n",
    "#         lt_or_eq_one = sum_weights - 1\n",
    "#         gt_or_eq_one = 1 - sum_weights\n",
    "#         constraints = tf.stack([lt_or_eq_one, gt_or_eq_one, -x, -y])\n",
    "#         return constraints\n",
    "\n",
    "# x = tf.Variable(0.0, dtype=tf.float32, name='x')\n",
    "# y = tf.Variable(0.0, dtype=tf.float32, name='y')\n",
    "\n",
    "# def loss_fn():\n",
    "#     return (x - 2) ** 2 + y\n",
    "\n",
    "# problem = SampleProblem(loss_fn, [x, y])\n",
    "\n",
    "# optimizer = tfco.LagrangianOptimizer(\n",
    "#     optimizer=tf.optimizers.Adagrad(learning_rate=0.1),\n",
    "#     num_constraints=problem.num_constraints\n",
    "# )\n",
    "\n",
    "# var_list = [x,  y] + problem.trainable_variables + optimizer.trainable_variables()\n",
    "\n",
    "# for i in range(10000):\n",
    "#     optimizer.minimize(problem, var_list=var_list)\n",
    "#     if i % 1000 == 0:\n",
    "#         print(f'step = {i}')\n",
    "#         print(f'loss = {loss_fn()}')\n",
    "#         print(f'constraint = {(x + y).numpy()}')\n",
    "#         print(f'x = {x.numpy()}, y = {y.numpy()}')"
   ]
  },
  {
   "cell_type": "code",
   "execution_count": null,
   "metadata": {},
   "outputs": [],
   "source": []
  }
 ],
 "metadata": {
  "kernelspec": {
   "display_name": "Python 3 (ipykernel)",
   "language": "python",
   "name": "python3"
  },
  "language_info": {
   "codemirror_mode": {
    "name": "ipython",
    "version": 3
   },
   "file_extension": ".py",
   "mimetype": "text/x-python",
   "name": "python",
   "nbconvert_exporter": "python",
   "pygments_lexer": "ipython3",
   "version": "3.11.4"
  }
 },
 "nbformat": 4,
 "nbformat_minor": 2
}
